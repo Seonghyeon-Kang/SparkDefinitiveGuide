{
 "cells": [
  {
   "cell_type": "markdown",
   "metadata": {},
   "source": [
    "+ UDAF는 스칼라와 자바로만 사용할 수 있음\n",
    "```\n",
    "inputSchema: UDAF 입력 파라미터의 스키마를 StructType으로 정의 \n",
    "bufferSchema: UDAF 중간 결과의 스키마를 StructType으로 정의\n",
    "dataType: 반환될 값의 DataType을 정의\n",
    "deterministic: UDAF가 동일한 입력값에 대해 항상 동일한 결과를 반환하는지 불리언값으로 정의\n",
    "initialize: 집계용 버퍼의 값을 초기화하는 로직을 정의\n",
    "update: 입력받은 로우를 기바느로 내부 버퍼를 업데이트하는 로직을 정의\n",
    "merge: 두 개의 집계용 버퍼를 병합하는 로직을 정의\n",
    "evaluate: 집계의 최종 결과를 생성하는 로직을 정의\n",
    "```"
   ]
  },
  {
   "cell_type": "code",
   "execution_count": 3,
   "metadata": {},
   "outputs": [
    {
     "data": {
      "text/plain": [
       "defined class BoolAnd\n"
      ]
     },
     "metadata": {},
     "output_type": "display_data"
    }
   ],
   "source": [
    "import org.apache.spark.sql.expressions.MutableAggregationBuffer\n",
    "import org.apache.spark.sql.expressions.UserDefinedAggregateFunction\n",
    "import org.apache.spark.sql.Row\n",
    "import org.apache.spark.sql.types._\n",
    "\n",
    "class BoolAnd extends UserDefinedAggregateFunction{\n",
    "    def inputSchema: org.apache.spark.sql.types.StructType = \n",
    "        StructType(StructField(\"value\", BooleanType) :: Nil) // Nil 빈 리스트\n",
    "    def bufferSchema: StructType =\n",
    "        StructType(StructField(\"result\", BooleanType) :: Nil)\n",
    "    def dataType: DataType = BooleanType\n",
    "    def deterministic: Boolean = true\n",
    "    def initialize(buffer: MutableAggregationBuffer): Unit = { // Unit은 void 개념\n",
    "        buffer(0) = true\n",
    "    }\n",
    "    def update(buffer: MutableAggregationBuffer, input: Row): Unit = {\n",
    "        buffer(0) = buffer.getAs[Boolean](0) && input.getAs[Boolean](0)\n",
    "    }    \n",
    "    def merge(buffer1: MutableAggregationBuffer, buffer2: Row): Unit = {\n",
    "        buffer1(0) = buffer1.getAs[Boolean](0) && buffer2.getAs[Boolean](0)\n",
    "    }\n",
    "    def evaluate(buffer: Row): Any = {\n",
    "        buffer(0)\n",
    "    }\n",
    "}"
   ]
  },
  {
   "cell_type": "code",
   "execution_count": 6,
   "metadata": {},
   "outputs": [
    {
     "name": "stdout",
     "output_type": "stream",
     "text": [
      "+----------+----------+\n",
      "|booland(t)|booland(f)|\n",
      "+----------+----------+\n",
      "|      true|     false|\n",
      "+----------+----------+\n",
      "\n"
     ]
    },
    {
     "data": {
      "text/plain": [
       "ba = BoolAnd@12155ed9\n"
      ]
     },
     "metadata": {},
     "output_type": "display_data"
    },
    {
     "data": {
      "text/plain": [
       "BoolAnd@12155ed9"
      ]
     },
     "execution_count": 6,
     "metadata": {},
     "output_type": "execute_result"
    }
   ],
   "source": [
    "val ba = new BoolAnd\n",
    "spark.udf.register(\"booland\", ba)\n",
    "import org.apache.spark.sql.functions._\n",
    "\n",
    "spark.range(1)\n",
    "    .selectExpr(\"explode(array(TRUE, TRUE, TRUE)) as t\")        // 모든 컬럼이 TRUE 이면 true\n",
    "    .selectExpr(\"explode(array(TRUE, FALSE, TRUE)) as f\", \"t\")  // 모든 컬럼이 TRUE 이면 false\n",
    "    .select(ba(col(\"t\")), expr(\"booland(f)\"))\n",
    "    .show()"
   ]
  }
 ],
 "metadata": {
  "kernelspec": {
   "display_name": "Apache Toree - Scala",
   "language": "scala",
   "name": "apache_toree_scala"
  },
  "language_info": {
   "codemirror_mode": "text/x-scala",
   "file_extension": ".scala",
   "mimetype": "text/x-scala",
   "name": "scala",
   "pygments_lexer": "scala",
   "version": "2.11.12"
  }
 },
 "nbformat": 4,
 "nbformat_minor": 2
}
