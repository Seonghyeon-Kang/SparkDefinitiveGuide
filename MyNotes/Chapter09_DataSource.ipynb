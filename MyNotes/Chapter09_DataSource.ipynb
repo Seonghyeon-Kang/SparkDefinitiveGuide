{
 "cells": [
  {
   "cell_type": "code",
   "execution_count": 1,
   "metadata": {},
   "outputs": [],
   "source": [
    "from pyspark.sql import SparkSession\n",
    "spark = SparkSession \\\n",
    "    .builder \\\n",
    "    .appName(\"Python Spark SQL basic example\") \\\n",
    "    .getOrCreate()"
   ]
  },
  {
   "cell_type": "markdown",
   "metadata": {},
   "source": [
    "# 9. 데이터 소스"
   ]
  },
  {
   "cell_type": "markdown",
   "metadata": {},
   "source": [
    "## 9.1 데이터소스 API의 구조"
   ]
  },
  {
   "cell_type": "markdown",
   "metadata": {},
   "source": [
    "#### 읽기 모드\n",
    "+ Permissive: 오류 레코드의 모든 필드를 null로 설정하고 모든 오류 레코드를 \\_corrup_record 라는 문자열 컬럼에 기록\n",
    "+ dropMalfromed: 형식에 맞지 않는 레코드가 포함된 로우 제거\n",
    "+ failFast: 형식에 맞지 않는 레코드를 만나면 즉시 종료\n",
    "\n",
    "#### 쓰기 모드\n",
    "+ append: 해당 경로에 이미 존재하는 파일 몰록에 결과 파일을 추가\n",
    "+ overwrite: 이미 존재하는 모든 데이터를 완전히 덮어 씀\n",
    "+ errorIfExists: 해당 경로에 데이터나 파일이 존재하는 경우 오류를 발생시키면서 쓰기 작업이 실패됨\n",
    "+ ignore: 해당 경로에 데이터나 파일이 존재하는 경우 아무런 처리도 하지 않음\n"
   ]
  },
  {
   "cell_type": "markdown",
   "metadata": {},
   "source": [
    "## 9.2 CSV"
   ]
  },
  {
   "cell_type": "markdown",
   "metadata": {},
   "source": [
    "### 9.2.1 CSV 파일 쓰기"
   ]
  },
  {
   "cell_type": "code",
   "execution_count": 2,
   "metadata": {},
   "outputs": [],
   "source": [
    "\"\"\" Open Session \"\"\"\n",
    "from pyspark.sql import SparkSession\n",
    "spark = SparkSession \\\n",
    "    .builder \\\n",
    "    .appName(\"Python Spark SQL basic example\") \\\n",
    "    .getOrCreate()"
   ]
  },
  {
   "cell_type": "code",
   "execution_count": 3,
   "metadata": {},
   "outputs": [],
   "source": [
    "from pyspark.sql.types import StructField, StructType, StringType, LongType \n",
    "\n",
    "myManualSchema = StructType([\n",
    "    StructField(\"DEST_COUNTRY_NAME\", StringType(), True),\n",
    "    StructField(\"ORIGIN_COUNTRY_NAME\", StringType(), True),\n",
    "    StructField(\"count\", LongType(), False)\n",
    "])\n",
    "\n",
    "csvFile = spark.read.format(\"csv\")\\\n",
    "    .option(\"header\", \"true\")\\\n",
    "    .option(\"mode\", \"permissive\")\\\n",
    "    .schema(myManualSchema)\\\n",
    "    .load(\"./data/flight-data/csv/2010-summary.csv\")\\"
   ]
  },
  {
   "cell_type": "code",
   "execution_count": 4,
   "metadata": {},
   "outputs": [
    {
     "name": "stdout",
     "output_type": "stream",
     "text": [
      "+-----------------+-------------------+-----+\n",
      "|DEST_COUNTRY_NAME|ORIGIN_COUNTRY_NAME|count|\n",
      "+-----------------+-------------------+-----+\n",
      "|    United States|            Romania|    1|\n",
      "|    United States|            Ireland|  264|\n",
      "|    United States|              India|   69|\n",
      "|            Egypt|      United States|   24|\n",
      "|Equatorial Guinea|      United States|    1|\n",
      "+-----------------+-------------------+-----+\n",
      "only showing top 5 rows\n",
      "\n"
     ]
    }
   ],
   "source": [
    "csvFile.show(5)"
   ]
  },
  {
   "cell_type": "markdown",
   "metadata": {},
   "source": [
    "### 9.2.3 CSV 파일 쓰기"
   ]
  },
  {
   "cell_type": "code",
   "execution_count": 5,
   "metadata": {},
   "outputs": [],
   "source": [
    "csvFile.write.format(\"csv\").mode(\"overwrite\")\\\n",
    "    .option(\"sep\", \"\\t\")\\\n",
    "    .save(\"./data/tmp/my-tsv-file.tsv\")"
   ]
  },
  {
   "cell_type": "code",
   "execution_count": 6,
   "metadata": {},
   "outputs": [],
   "source": [
    "csvFile = spark.read.format(\"csv\")\\\n",
    "    .option(\"sep\", \"\\t\")\\\n",
    "    .option(\"header\", \"true\")\\\n",
    "    .option(\"mode\", \"permissive\")\\\n",
    "    .schema(myManualSchema)\\\n",
    "    .load(\"./data/tmp/my-tsv-file.tsv\")"
   ]
  },
  {
   "cell_type": "code",
   "execution_count": 7,
   "metadata": {},
   "outputs": [
    {
     "name": "stdout",
     "output_type": "stream",
     "text": [
      "+-----------------+-------------------+-----+\n",
      "|DEST_COUNTRY_NAME|ORIGIN_COUNTRY_NAME|count|\n",
      "+-----------------+-------------------+-----+\n",
      "|    United States|            Ireland|  264|\n",
      "|    United States|              India|   69|\n",
      "|            Egypt|      United States|   24|\n",
      "|Equatorial Guinea|      United States|    1|\n",
      "|    United States|          Singapore|   25|\n",
      "+-----------------+-------------------+-----+\n",
      "only showing top 5 rows\n",
      "\n"
     ]
    }
   ],
   "source": [
    "csvFile.show(5)"
   ]
  },
  {
   "cell_type": "code",
   "execution_count": 8,
   "metadata": {},
   "outputs": [
    {
     "name": "stdout",
     "output_type": "stream",
     "text": [
      "part-00000-40e80ede-be33-48df-a6b9-3aa110e2bc81-c000.csv  _SUCCESS\r\n"
     ]
    }
   ],
   "source": [
    "!ls ./data/tmp/my-tsv-file.tsv"
   ]
  },
  {
   "cell_type": "markdown",
   "metadata": {},
   "source": [
    "## 9.3 JSON\n",
    "+ 스파크에서는 JSON 파일을 사용할 때 중로 구분된 JSON을 기본적으로 사용\n",
    "+ MultiLine 옵션을 사용해 줄로 구분된 방식과 여러 줄로 구성된 방식을 선택적으로 사용할 수 있음"
   ]
  },
  {
   "cell_type": "markdown",
   "metadata": {},
   "source": [
    "### 9.3.2 JSON 읽기"
   ]
  },
  {
   "cell_type": "code",
   "execution_count": 9,
   "metadata": {},
   "outputs": [
    {
     "name": "stdout",
     "output_type": "stream",
     "text": [
      "+-----------------+-------------------+-----+\n",
      "|DEST_COUNTRY_NAME|ORIGIN_COUNTRY_NAME|count|\n",
      "+-----------------+-------------------+-----+\n",
      "|    United States|            Romania|    1|\n",
      "|    United States|            Ireland|  264|\n",
      "|    United States|              India|   69|\n",
      "|            Egypt|      United States|   24|\n",
      "|Equatorial Guinea|      United States|    1|\n",
      "+-----------------+-------------------+-----+\n",
      "only showing top 5 rows\n",
      "\n"
     ]
    }
   ],
   "source": [
    "spark.read.format(\"json\").option(\"mode\", \"FAILFAST\").option(\"inferSchema\", \"true\")\\\n",
    "    .load(\"./data/flight-data/json/2010-summary.json\").show(5)"
   ]
  },
  {
   "cell_type": "markdown",
   "metadata": {},
   "source": [
    "### 9.3.3 JSON 쓰기\n",
    "+ 파티션당 하나의 파일을 만들며 전체 DataFrame을 단일 폴더에 저장\n",
    "+ JSON 객체는 한 줄에 하나씩 기록됨"
   ]
  },
  {
   "cell_type": "code",
   "execution_count": 10,
   "metadata": {},
   "outputs": [],
   "source": [
    "csvFile.write.format(\"json\").mode(\"overwrite\")\\\n",
    "    .option(\"mode\", \"append\")\\\n",
    "    .save(\"./data/tmp/my-json-file.json\")"
   ]
  },
  {
   "cell_type": "markdown",
   "metadata": {},
   "source": [
    "## 9.4 Parquet & ORC\n",
    "+ 전체 파일을 읽는 대신 개별 컬럼을 읽을 수 있으며 컬럼 기반의 압축 기능을 제공\n",
    "+ 아파치 스파크와 잘 호환되기 때문에 기본 파일 포맷이 됨\n",
    "+ 복합 데이터 타입을 지원\n",
    "+ ORC 파일도 파케이와 유사하나 Hive에 최적화 됨"
   ]
  },
  {
   "cell_type": "markdown",
   "metadata": {},
   "source": [
    "### 9.4.1 Parquet 파일 읽기\n",
    "+ 스키마가 파일 자체에 내장되어 있음"
   ]
  },
  {
   "cell_type": "code",
   "execution_count": 11,
   "metadata": {},
   "outputs": [],
   "source": [
    "parquetFile = spark.read.format(\"parquet\").load(\"./data/flight-data/parquet/2010-summary.parquet/\")"
   ]
  },
  {
   "cell_type": "markdown",
   "metadata": {},
   "source": [
    "### 9.4.2 Parquet 파일 쓰기"
   ]
  },
  {
   "cell_type": "code",
   "execution_count": 12,
   "metadata": {},
   "outputs": [],
   "source": [
    "parquetFile.write.format(\"parquet\").mode(\"overwrite\")\\\n",
    "    .save(\"./data/tmp/my-parquet-file.parquet\")"
   ]
  },
  {
   "cell_type": "markdown",
   "metadata": {},
   "source": [
    "## 9.6 SQL 데이터베이스"
   ]
  },
  {
   "cell_type": "code",
   "execution_count": 13,
   "metadata": {},
   "outputs": [],
   "source": [
    "# !pip install mysql-connector"
   ]
  },
  {
   "cell_type": "code",
   "execution_count": 14,
   "metadata": {},
   "outputs": [],
   "source": [
    "\"\"\" 테스트를 위해 데이터를 DB에 추가함 \"\"\"\n",
    "import mysql.connector\n",
    "from mysql.connector import Error\n",
    "from mysql.connector import errorcode\n",
    "from datetime import datetime\n",
    "def insertInSummaryTable(index, dest, origin, count):\n",
    "    try:\n",
    "        conn = mysql.connector.connect(host='mariadb',\n",
    "                                       database='db_spark',\n",
    "                                       user='root',\n",
    "                                       password='9838')\n",
    "        \n",
    "        cursor = conn.cursor(prepared=True)\n",
    "        sql_insert_query = \"\"\"\n",
    "        INSERT INTO summary_2010 VALUES (%s,%s,%s)\n",
    "        \"\"\"\n",
    "        insert_tuple = (dest, origin, int(count)) # np.int64를 일반적인 int로 형 변환\n",
    "        result = cursor.execute(sql_insert_query, insert_tuple)\n",
    "        conn.commit()\n",
    "        print(\"Record inserted successfully into python_users table\")\n",
    "    except mysql.connector.Error as error :\n",
    "        conn.rollback()\n",
    "        print(\"Failed to insert into MySQL table {}\".format(error))\n",
    "    finally:\n",
    "        if(conn.is_connected()):\n",
    "            cursor.close()\n",
    "            conn.close()\n",
    "            print(\"MySQL connection is closed\")"
   ]
  },
  {
   "cell_type": "code",
   "execution_count": 15,
   "metadata": {},
   "outputs": [
    {
     "name": "stdout",
     "output_type": "stream",
     "text": [
      "Record inserted successfully into python_users table\n",
      "MySQL connection is closed\n",
      "Record inserted successfully into python_users table\n",
      "MySQL connection is closed\n",
      "Record inserted successfully into python_users table\n",
      "MySQL connection is closed\n",
      "Record inserted successfully into python_users table\n",
      "MySQL connection is closed\n",
      "Record inserted successfully into python_users table\n",
      "MySQL connection is closed\n",
      "Record inserted successfully into python_users table\n",
      "MySQL connection is closed\n",
      "Record inserted successfully into python_users table\n",
      "MySQL connection is closed\n",
      "Record inserted successfully into python_users table\n",
      "MySQL connection is closed\n",
      "Record inserted successfully into python_users table\n",
      "MySQL connection is closed\n",
      "Record inserted successfully into python_users table\n",
      "MySQL connection is closed\n",
      "Record inserted successfully into python_users table\n",
      "MySQL connection is closed\n",
      "Record inserted successfully into python_users table\n",
      "MySQL connection is closed\n",
      "Record inserted successfully into python_users table\n",
      "MySQL connection is closed\n",
      "Record inserted successfully into python_users table\n",
      "MySQL connection is closed\n",
      "Record inserted successfully into python_users table\n",
      "MySQL connection is closed\n",
      "Record inserted successfully into python_users table\n",
      "MySQL connection is closed\n",
      "Record inserted successfully into python_users table\n",
      "MySQL connection is closed\n",
      "Record inserted successfully into python_users table\n",
      "MySQL connection is closed\n",
      "Record inserted successfully into python_users table\n",
      "MySQL connection is closed\n",
      "Record inserted successfully into python_users table\n",
      "MySQL connection is closed\n",
      "Record inserted successfully into python_users table\n",
      "MySQL connection is closed\n",
      "Record inserted successfully into python_users table\n",
      "MySQL connection is closed\n",
      "Record inserted successfully into python_users table\n",
      "MySQL connection is closed\n",
      "Record inserted successfully into python_users table\n",
      "MySQL connection is closed\n",
      "Record inserted successfully into python_users table\n",
      "MySQL connection is closed\n",
      "Record inserted successfully into python_users table\n",
      "MySQL connection is closed\n",
      "Record inserted successfully into python_users table\n",
      "MySQL connection is closed\n",
      "Record inserted successfully into python_users table\n",
      "MySQL connection is closed\n",
      "Record inserted successfully into python_users table\n",
      "MySQL connection is closed\n",
      "Record inserted successfully into python_users table\n",
      "MySQL connection is closed\n",
      "Record inserted successfully into python_users table\n",
      "MySQL connection is closed\n",
      "Record inserted successfully into python_users table\n",
      "MySQL connection is closed\n",
      "Record inserted successfully into python_users table\n",
      "MySQL connection is closed\n",
      "Record inserted successfully into python_users table\n",
      "MySQL connection is closed\n",
      "Record inserted successfully into python_users table\n",
      "MySQL connection is closed\n",
      "Record inserted successfully into python_users table\n",
      "MySQL connection is closed\n",
      "Record inserted successfully into python_users table\n",
      "MySQL connection is closed\n",
      "Record inserted successfully into python_users table\n",
      "MySQL connection is closed\n",
      "Record inserted successfully into python_users table\n",
      "MySQL connection is closed\n",
      "Record inserted successfully into python_users table\n",
      "MySQL connection is closed\n",
      "Record inserted successfully into python_users table\n",
      "MySQL connection is closed\n",
      "Record inserted successfully into python_users table\n",
      "MySQL connection is closed\n",
      "Record inserted successfully into python_users table\n",
      "MySQL connection is closed\n",
      "Record inserted successfully into python_users table\n",
      "MySQL connection is closed\n",
      "Record inserted successfully into python_users table\n",
      "MySQL connection is closed\n",
      "Record inserted successfully into python_users table\n",
      "MySQL connection is closed\n",
      "Record inserted successfully into python_users table\n",
      "MySQL connection is closed\n",
      "Record inserted successfully into python_users table\n",
      "MySQL connection is closed\n",
      "Record inserted successfully into python_users table\n",
      "MySQL connection is closed\n",
      "Record inserted successfully into python_users table\n",
      "MySQL connection is closed\n",
      "Record inserted successfully into python_users table\n",
      "MySQL connection is closed\n",
      "Record inserted successfully into python_users table\n",
      "MySQL connection is closed\n",
      "Record inserted successfully into python_users table\n",
      "MySQL connection is closed\n",
      "Record inserted successfully into python_users table\n",
      "MySQL connection is closed\n",
      "Record inserted successfully into python_users table\n",
      "MySQL connection is closed\n",
      "Record inserted successfully into python_users table\n",
      "MySQL connection is closed\n",
      "Record inserted successfully into python_users table\n",
      "MySQL connection is closed\n",
      "Record inserted successfully into python_users table\n",
      "MySQL connection is closed\n",
      "Record inserted successfully into python_users table\n",
      "MySQL connection is closed\n",
      "Record inserted successfully into python_users table\n",
      "MySQL connection is closed\n",
      "Record inserted successfully into python_users table\n",
      "MySQL connection is closed\n",
      "Record inserted successfully into python_users table\n",
      "MySQL connection is closed\n",
      "Record inserted successfully into python_users table\n",
      "MySQL connection is closed\n",
      "Record inserted successfully into python_users table\n",
      "MySQL connection is closed\n",
      "Record inserted successfully into python_users table\n",
      "MySQL connection is closed\n",
      "Record inserted successfully into python_users table\n",
      "MySQL connection is closed\n",
      "Record inserted successfully into python_users table\n",
      "MySQL connection is closed\n",
      "Record inserted successfully into python_users table\n",
      "MySQL connection is closed\n",
      "Record inserted successfully into python_users table\n",
      "MySQL connection is closed\n",
      "Record inserted successfully into python_users table\n",
      "MySQL connection is closed\n",
      "Record inserted successfully into python_users table\n",
      "MySQL connection is closed\n",
      "Record inserted successfully into python_users table\n",
      "MySQL connection is closed\n",
      "Record inserted successfully into python_users table\n",
      "MySQL connection is closed\n",
      "Record inserted successfully into python_users table\n",
      "MySQL connection is closed\n",
      "Record inserted successfully into python_users table\n",
      "MySQL connection is closed\n",
      "Record inserted successfully into python_users table\n",
      "MySQL connection is closed\n",
      "Record inserted successfully into python_users table\n",
      "MySQL connection is closed\n",
      "Record inserted successfully into python_users table\n",
      "MySQL connection is closed\n",
      "Record inserted successfully into python_users table\n",
      "MySQL connection is closed\n",
      "Record inserted successfully into python_users table\n",
      "MySQL connection is closed\n",
      "Record inserted successfully into python_users table\n",
      "MySQL connection is closed\n",
      "Record inserted successfully into python_users table\n",
      "MySQL connection is closed\n",
      "Record inserted successfully into python_users table\n",
      "MySQL connection is closed\n",
      "Record inserted successfully into python_users table\n",
      "MySQL connection is closed\n",
      "Record inserted successfully into python_users table\n",
      "MySQL connection is closed\n",
      "Record inserted successfully into python_users table\n",
      "MySQL connection is closed\n",
      "Record inserted successfully into python_users table\n",
      "MySQL connection is closed\n",
      "Record inserted successfully into python_users table\n",
      "MySQL connection is closed\n",
      "Record inserted successfully into python_users table\n",
      "MySQL connection is closed\n",
      "Record inserted successfully into python_users table\n",
      "MySQL connection is closed\n",
      "Record inserted successfully into python_users table\n",
      "MySQL connection is closed\n",
      "Record inserted successfully into python_users table\n",
      "MySQL connection is closed\n",
      "Record inserted successfully into python_users table\n",
      "MySQL connection is closed\n",
      "Record inserted successfully into python_users table\n",
      "MySQL connection is closed\n",
      "Record inserted successfully into python_users table\n",
      "MySQL connection is closed\n",
      "Record inserted successfully into python_users table\n",
      "MySQL connection is closed\n",
      "Record inserted successfully into python_users table\n",
      "MySQL connection is closed\n",
      "Record inserted successfully into python_users table\n",
      "MySQL connection is closed\n",
      "Record inserted successfully into python_users table\n",
      "MySQL connection is closed\n",
      "Record inserted successfully into python_users table\n",
      "MySQL connection is closed\n",
      "Record inserted successfully into python_users table\n",
      "MySQL connection is closed\n",
      "Record inserted successfully into python_users table\n",
      "MySQL connection is closed\n",
      "Record inserted successfully into python_users table\n",
      "MySQL connection is closed\n",
      "Record inserted successfully into python_users table\n",
      "MySQL connection is closed\n",
      "Record inserted successfully into python_users table\n",
      "MySQL connection is closed\n",
      "Record inserted successfully into python_users table\n",
      "MySQL connection is closed\n",
      "Record inserted successfully into python_users table\n",
      "MySQL connection is closed\n",
      "Record inserted successfully into python_users table\n",
      "MySQL connection is closed\n",
      "Record inserted successfully into python_users table\n",
      "MySQL connection is closed\n",
      "Record inserted successfully into python_users table\n",
      "MySQL connection is closed\n",
      "Record inserted successfully into python_users table\n",
      "MySQL connection is closed\n",
      "Record inserted successfully into python_users table\n",
      "MySQL connection is closed\n",
      "Record inserted successfully into python_users table\n",
      "MySQL connection is closed\n",
      "Record inserted successfully into python_users table\n",
      "MySQL connection is closed\n",
      "Record inserted successfully into python_users table\n",
      "MySQL connection is closed\n",
      "Record inserted successfully into python_users table\n",
      "MySQL connection is closed\n",
      "Record inserted successfully into python_users table\n",
      "MySQL connection is closed\n",
      "Record inserted successfully into python_users table\n",
      "MySQL connection is closed\n",
      "Record inserted successfully into python_users table\n",
      "MySQL connection is closed\n"
     ]
    },
    {
     "name": "stdout",
     "output_type": "stream",
     "text": [
      "Record inserted successfully into python_users table\n",
      "MySQL connection is closed\n",
      "Record inserted successfully into python_users table\n",
      "MySQL connection is closed\n",
      "Record inserted successfully into python_users table\n",
      "MySQL connection is closed\n",
      "Record inserted successfully into python_users table\n",
      "MySQL connection is closed\n",
      "Record inserted successfully into python_users table\n",
      "MySQL connection is closed\n",
      "Record inserted successfully into python_users table\n",
      "MySQL connection is closed\n",
      "Record inserted successfully into python_users table\n",
      "MySQL connection is closed\n",
      "Record inserted successfully into python_users table\n",
      "MySQL connection is closed\n",
      "Record inserted successfully into python_users table\n",
      "MySQL connection is closed\n",
      "Record inserted successfully into python_users table\n",
      "MySQL connection is closed\n",
      "Record inserted successfully into python_users table\n",
      "MySQL connection is closed\n",
      "Record inserted successfully into python_users table\n",
      "MySQL connection is closed\n",
      "Record inserted successfully into python_users table\n",
      "MySQL connection is closed\n",
      "Record inserted successfully into python_users table\n",
      "MySQL connection is closed\n",
      "Record inserted successfully into python_users table\n",
      "MySQL connection is closed\n",
      "Record inserted successfully into python_users table\n",
      "MySQL connection is closed\n",
      "Record inserted successfully into python_users table\n",
      "MySQL connection is closed\n",
      "Record inserted successfully into python_users table\n",
      "MySQL connection is closed\n",
      "Record inserted successfully into python_users table\n",
      "MySQL connection is closed\n",
      "Record inserted successfully into python_users table\n",
      "MySQL connection is closed\n",
      "Record inserted successfully into python_users table\n",
      "MySQL connection is closed\n",
      "Record inserted successfully into python_users table\n",
      "MySQL connection is closed\n",
      "Record inserted successfully into python_users table\n",
      "MySQL connection is closed\n",
      "Record inserted successfully into python_users table\n",
      "MySQL connection is closed\n",
      "Record inserted successfully into python_users table\n",
      "MySQL connection is closed\n",
      "Record inserted successfully into python_users table\n",
      "MySQL connection is closed\n",
      "Record inserted successfully into python_users table\n",
      "MySQL connection is closed\n",
      "Record inserted successfully into python_users table\n",
      "MySQL connection is closed\n",
      "Record inserted successfully into python_users table\n",
      "MySQL connection is closed\n",
      "Record inserted successfully into python_users table\n",
      "MySQL connection is closed\n",
      "Record inserted successfully into python_users table\n",
      "MySQL connection is closed\n",
      "Record inserted successfully into python_users table\n",
      "MySQL connection is closed\n",
      "Record inserted successfully into python_users table\n",
      "MySQL connection is closed\n",
      "Record inserted successfully into python_users table\n",
      "MySQL connection is closed\n",
      "Record inserted successfully into python_users table\n",
      "MySQL connection is closed\n",
      "Record inserted successfully into python_users table\n",
      "MySQL connection is closed\n",
      "Record inserted successfully into python_users table\n",
      "MySQL connection is closed\n",
      "Record inserted successfully into python_users table\n",
      "MySQL connection is closed\n",
      "Record inserted successfully into python_users table\n",
      "MySQL connection is closed\n",
      "Record inserted successfully into python_users table\n",
      "MySQL connection is closed\n",
      "Record inserted successfully into python_users table\n",
      "MySQL connection is closed\n",
      "Record inserted successfully into python_users table\n",
      "MySQL connection is closed\n",
      "Record inserted successfully into python_users table\n",
      "MySQL connection is closed\n",
      "Record inserted successfully into python_users table\n",
      "MySQL connection is closed\n",
      "Record inserted successfully into python_users table\n",
      "MySQL connection is closed\n",
      "Record inserted successfully into python_users table\n",
      "MySQL connection is closed\n",
      "Record inserted successfully into python_users table\n",
      "MySQL connection is closed\n",
      "Record inserted successfully into python_users table\n",
      "MySQL connection is closed\n",
      "Record inserted successfully into python_users table\n",
      "MySQL connection is closed\n",
      "Record inserted successfully into python_users table\n",
      "MySQL connection is closed\n",
      "Record inserted successfully into python_users table\n",
      "MySQL connection is closed\n",
      "Record inserted successfully into python_users table\n",
      "MySQL connection is closed\n",
      "Record inserted successfully into python_users table\n",
      "MySQL connection is closed\n",
      "Record inserted successfully into python_users table\n",
      "MySQL connection is closed\n",
      "Record inserted successfully into python_users table\n",
      "MySQL connection is closed\n",
      "Record inserted successfully into python_users table\n",
      "MySQL connection is closed\n",
      "Record inserted successfully into python_users table\n",
      "MySQL connection is closed\n",
      "Record inserted successfully into python_users table\n",
      "MySQL connection is closed\n",
      "Record inserted successfully into python_users table\n",
      "MySQL connection is closed\n",
      "Record inserted successfully into python_users table\n",
      "MySQL connection is closed\n",
      "Record inserted successfully into python_users table\n",
      "MySQL connection is closed\n",
      "Record inserted successfully into python_users table\n",
      "MySQL connection is closed\n",
      "Record inserted successfully into python_users table\n",
      "MySQL connection is closed\n",
      "Record inserted successfully into python_users table\n",
      "MySQL connection is closed\n",
      "Record inserted successfully into python_users table\n",
      "MySQL connection is closed\n",
      "Record inserted successfully into python_users table\n",
      "MySQL connection is closed\n",
      "Record inserted successfully into python_users table\n",
      "MySQL connection is closed\n",
      "Record inserted successfully into python_users table\n",
      "MySQL connection is closed\n",
      "Record inserted successfully into python_users table\n",
      "MySQL connection is closed\n",
      "Record inserted successfully into python_users table\n",
      "MySQL connection is closed\n",
      "Record inserted successfully into python_users table\n",
      "MySQL connection is closed\n",
      "Record inserted successfully into python_users table\n",
      "MySQL connection is closed\n",
      "Record inserted successfully into python_users table\n",
      "MySQL connection is closed\n",
      "Record inserted successfully into python_users table\n",
      "MySQL connection is closed\n",
      "Record inserted successfully into python_users table\n",
      "MySQL connection is closed\n",
      "Record inserted successfully into python_users table\n",
      "MySQL connection is closed\n",
      "Record inserted successfully into python_users table\n",
      "MySQL connection is closed\n",
      "Record inserted successfully into python_users table\n",
      "MySQL connection is closed\n",
      "Record inserted successfully into python_users table\n",
      "MySQL connection is closed\n",
      "Record inserted successfully into python_users table\n",
      "MySQL connection is closed\n",
      "Record inserted successfully into python_users table\n",
      "MySQL connection is closed\n",
      "Record inserted successfully into python_users table\n",
      "MySQL connection is closed\n",
      "Record inserted successfully into python_users table\n",
      "MySQL connection is closed\n",
      "Record inserted successfully into python_users table\n",
      "MySQL connection is closed\n",
      "Record inserted successfully into python_users table\n",
      "MySQL connection is closed\n",
      "Record inserted successfully into python_users table\n",
      "MySQL connection is closed\n",
      "Record inserted successfully into python_users table\n",
      "MySQL connection is closed\n",
      "Record inserted successfully into python_users table\n",
      "MySQL connection is closed\n",
      "Record inserted successfully into python_users table\n",
      "MySQL connection is closed\n",
      "Record inserted successfully into python_users table\n",
      "MySQL connection is closed\n",
      "Record inserted successfully into python_users table\n",
      "MySQL connection is closed\n",
      "Record inserted successfully into python_users table\n",
      "MySQL connection is closed\n",
      "Record inserted successfully into python_users table\n",
      "MySQL connection is closed\n",
      "Record inserted successfully into python_users table\n",
      "MySQL connection is closed\n",
      "Record inserted successfully into python_users table\n",
      "MySQL connection is closed\n",
      "Record inserted successfully into python_users table\n",
      "MySQL connection is closed\n",
      "Record inserted successfully into python_users table\n",
      "MySQL connection is closed\n",
      "Record inserted successfully into python_users table\n",
      "MySQL connection is closed\n",
      "Record inserted successfully into python_users table\n",
      "MySQL connection is closed\n",
      "Record inserted successfully into python_users table\n",
      "MySQL connection is closed\n",
      "Record inserted successfully into python_users table\n",
      "MySQL connection is closed\n",
      "Record inserted successfully into python_users table\n",
      "MySQL connection is closed\n",
      "Record inserted successfully into python_users table\n",
      "MySQL connection is closed\n",
      "Record inserted successfully into python_users table\n",
      "MySQL connection is closed\n",
      "Record inserted successfully into python_users table\n",
      "MySQL connection is closed\n",
      "Record inserted successfully into python_users table\n",
      "MySQL connection is closed\n",
      "Record inserted successfully into python_users table\n",
      "MySQL connection is closed\n",
      "Record inserted successfully into python_users table\n",
      "MySQL connection is closed\n",
      "Record inserted successfully into python_users table\n",
      "MySQL connection is closed\n",
      "Record inserted successfully into python_users table\n",
      "MySQL connection is closed\n",
      "Record inserted successfully into python_users table\n",
      "MySQL connection is closed\n",
      "Record inserted successfully into python_users table\n",
      "MySQL connection is closed\n",
      "Record inserted successfully into python_users table\n",
      "MySQL connection is closed\n",
      "Record inserted successfully into python_users table\n",
      "MySQL connection is closed\n",
      "Record inserted successfully into python_users table\n",
      "MySQL connection is closed\n",
      "Record inserted successfully into python_users table\n",
      "MySQL connection is closed\n",
      "Record inserted successfully into python_users table\n",
      "MySQL connection is closed\n",
      "Record inserted successfully into python_users table\n",
      "MySQL connection is closed\n",
      "Record inserted successfully into python_users table\n",
      "MySQL connection is closed\n",
      "Record inserted successfully into python_users table\n",
      "MySQL connection is closed\n",
      "Record inserted successfully into python_users table\n",
      "MySQL connection is closed\n",
      "Record inserted successfully into python_users table\n",
      "MySQL connection is closed\n",
      "Record inserted successfully into python_users table\n",
      "MySQL connection is closed\n",
      "Record inserted successfully into python_users table\n",
      "MySQL connection is closed\n"
     ]
    },
    {
     "name": "stdout",
     "output_type": "stream",
     "text": [
      "Record inserted successfully into python_users table\n",
      "MySQL connection is closed\n",
      "Record inserted successfully into python_users table\n",
      "MySQL connection is closed\n",
      "Record inserted successfully into python_users table\n",
      "MySQL connection is closed\n",
      "Record inserted successfully into python_users table\n",
      "MySQL connection is closed\n",
      "Record inserted successfully into python_users table\n",
      "MySQL connection is closed\n",
      "Record inserted successfully into python_users table\n",
      "MySQL connection is closed\n",
      "Record inserted successfully into python_users table\n",
      "MySQL connection is closed\n",
      "Record inserted successfully into python_users table\n",
      "MySQL connection is closed\n",
      "Record inserted successfully into python_users table\n",
      "MySQL connection is closed\n",
      "Record inserted successfully into python_users table\n",
      "MySQL connection is closed\n",
      "Record inserted successfully into python_users table\n",
      "MySQL connection is closed\n",
      "Record inserted successfully into python_users table\n",
      "MySQL connection is closed\n"
     ]
    }
   ],
   "source": [
    "df = parquetFile.select(\"*\").toPandas()\n",
    "for row in df.to_records():\n",
    "    insertInSummaryTable(*row)"
   ]
  },
  {
   "cell_type": "code",
   "execution_count": 16,
   "metadata": {},
   "outputs": [
    {
     "name": "stdout",
     "output_type": "stream",
     "text": [
      "+--------------------+\n",
      "|   DEST_COUNTRY_NAME|\n",
      "+--------------------+\n",
      "|            Anguilla|\n",
      "|              Russia|\n",
      "|            Paraguay|\n",
      "|             Senegal|\n",
      "|              Sweden|\n",
      "|            Kiribati|\n",
      "|              Guyana|\n",
      "|         Philippines|\n",
      "|            Malaysia|\n",
      "|           Singapore|\n",
      "|                Fiji|\n",
      "|              Turkey|\n",
      "|             Germany|\n",
      "|         Afghanistan|\n",
      "|              Jordan|\n",
      "|               Palau|\n",
      "|Turks and Caicos ...|\n",
      "|              France|\n",
      "|              Greece|\n",
      "|              Taiwan|\n",
      "+--------------------+\n",
      "only showing top 20 rows\n",
      "\n"
     ]
    }
   ],
   "source": [
    "dataframe_mysql = spark.read.format(\"jdbc\")\\\n",
    "    .option(\"url\", \"jdbc:mysql://mariadb/db_spark\")\\\n",
    "    .option(\"driver\", \"com.mysql.jdbc.Driver\")\\\n",
    "    .option(\"dbtable\", \"summary_2010\").option(\"user\", \"root\").option(\"password\", \"9838\")\\\n",
    "    .load()\n",
    "\n",
    "from pyspark.sql.functions import count, col\n",
    "dataframe_mysql.select(col(\"DEST_COUNTRY_NAME\")).distinct().show()"
   ]
  },
  {
   "cell_type": "markdown",
   "metadata": {},
   "source": [
    "### 9.6.2 쿼리 푸시다운\n",
    "+ DataFrame을 만들기 전에 데이터베이스 자체에서 데이터를 처리하도록 명령하는 것\n",
    "    + 필터를 명시하면 해당 필터에 대한 처리는 데이터베이스에 위임\n",
    "    + 괄호로 쿼리를 묶고 이름을 변경"
   ]
  },
  {
   "cell_type": "code",
   "execution_count": 17,
   "metadata": {},
   "outputs": [
    {
     "name": "stdout",
     "output_type": "stream",
     "text": [
      "== Physical Plan ==\n",
      "*(1) Scan JDBCRelation(summary_2010) [numPartitions=1] [DEST_COUNTRY_NAME#87,ORIGIN_COUNTRY_NAME#88,COUNT#89] PushedFilters: [*In(DEST_COUNTRY_NAME, [Anguilla,Sweden])], ReadSchema: struct<DEST_COUNTRY_NAME:string,ORIGIN_COUNTRY_NAME:string,COUNT:int>\n"
     ]
    }
   ],
   "source": [
    "dataframe_mysql.filter(\"DEST_COUNTRY_NAME in ('Anguilla', 'Sweden')\").explain()"
   ]
  },
  {
   "cell_type": "code",
   "execution_count": 18,
   "metadata": {},
   "outputs": [],
   "source": [
    "pushdownQuery = \"\"\"(SELECT DISTINCT(DEST_COUNTRY_NAME) FROM summary_2010) AS summary_2010 \"\"\"\n",
    "dbDataFrame = spark.read.format(\"jdbc\")\\\n",
    "    .option(\"url\", \"jdbc:mysql://mariadb/db_spark\")\\\n",
    "    .option(\"dbtable\", pushdownQuery)\\\n",
    "    .option(\"driver\", \"com.mysql.jdbc.Driver\")\\\n",
    "    .option(\"user\", \"root\").option(\"password\", \"9838\")\\\n",
    "    .load()"
   ]
  },
  {
   "cell_type": "code",
   "execution_count": 19,
   "metadata": {},
   "outputs": [
    {
     "name": "stdout",
     "output_type": "stream",
     "text": [
      "== Physical Plan ==\n",
      "*(1) Scan JDBCRelation((SELECT DISTINCT(DEST_COUNTRY_NAME) FROM summary_2010) AS summary_2010) [numPartitions=1] [DEST_COUNTRY_NAME#98] PushedFilters: [], ReadSchema: struct<DEST_COUNTRY_NAME:string>\n"
     ]
    }
   ],
   "source": [
    "dbDataFrame.explain() # 쿼리가 실행 계획에 그대로 반영됨"
   ]
  },
  {
   "cell_type": "markdown",
   "metadata": {},
   "source": [
    "#### 데이터베이스 병렬로 읽기\n",
    "+ numPartitions 옵션을 사용해 일기 및 쓰기용 동시 작업 수를 제한할 수 있는 최대 파티션 수를 설정"
   ]
  },
  {
   "cell_type": "code",
   "execution_count": 20,
   "metadata": {},
   "outputs": [],
   "source": [
    "dbDataFrame = spark.read.format(\"jdbc\")\\\n",
    "    .option(\"url\", \"jdbc:mysql://mariadb/db_spark\")\\\n",
    "    .option(\"dbtable\", pushdownQuery)\\\n",
    "    .option(\"driver\", \"com.mysql.jdbc.Driver\")\\\n",
    "    .option(\"user\", \"root\").option(\"password\", \"9838\")\\\n",
    "    .option(\"numPartitions\", 10)\\\n",
    "    .load()"
   ]
  },
  {
   "cell_type": "code",
   "execution_count": 21,
   "metadata": {},
   "outputs": [
    {
     "name": "stdout",
     "output_type": "stream",
     "text": [
      "+--------------------+\n",
      "|   DEST_COUNTRY_NAME|\n",
      "+--------------------+\n",
      "|            Anguilla|\n",
      "|              Russia|\n",
      "|            Paraguay|\n",
      "|             Senegal|\n",
      "|              Sweden|\n",
      "|            Kiribati|\n",
      "|              Guyana|\n",
      "|         Philippines|\n",
      "|            Malaysia|\n",
      "|           Singapore|\n",
      "|                Fiji|\n",
      "|              Turkey|\n",
      "|             Germany|\n",
      "|         Afghanistan|\n",
      "|              Jordan|\n",
      "|               Palau|\n",
      "|Turks and Caicos ...|\n",
      "|              France|\n",
      "|              Greece|\n",
      "|              Taiwan|\n",
      "+--------------------+\n",
      "only showing top 20 rows\n",
      "\n"
     ]
    }
   ],
   "source": [
    "dbDataFrame.select(\"DEST_COUNTRY_NAME\").distinct().show()"
   ]
  },
  {
   "cell_type": "markdown",
   "metadata": {},
   "source": [
    "+ 스파크 자체 파티션에 결과 데이터를 저장"
   ]
  },
  {
   "cell_type": "code",
   "execution_count": 22,
   "metadata": {},
   "outputs": [
    {
     "name": "stdout",
     "output_type": "stream",
     "text": [
      "+-----------------+-------------------+-----+\n",
      "|DEST_COUNTRY_NAME|ORIGIN_COUNTRY_NAME|COUNT|\n",
      "+-----------------+-------------------+-----+\n",
      "|           Sweden|      United States|   65|\n",
      "|    United States|             Sweden|   73|\n",
      "|         Anguilla|      United States|   21|\n",
      "|    United States|           Anguilla|   20|\n",
      "+-----------------+-------------------+-----+\n",
      "\n"
     ]
    },
    {
     "data": {
      "text/plain": [
       "2"
      ]
     },
     "execution_count": 22,
     "metadata": {},
     "output_type": "execute_result"
    }
   ],
   "source": [
    "props = {\"driver\":\"com.mysql.jdbc.Driver\",\n",
    "         \"user\":\"root\",\n",
    "         \"password\":\"9838\"}\n",
    "predicates = [\n",
    "    \"DEST_COUNTRY_NAME = 'Sweden' OR ORIGIN_COUNTRY_NAME = 'Sweden'\",\n",
    "    \"DEST_COUNTRY_NAME = 'Anguilla' OR ORIGIN_COUNTRY_NAME = 'Anguilla'\"]\n",
    "\n",
    "url = \"jdbc:mysql://mariadb/db_spark\"\n",
    "\n",
    "spark.read.jdbc(url, \"summary_2010\", predicates=predicates, properties=props).show()\n",
    "spark.read.jdbc(url, \"summary_2010\", predicates=predicates, properties=props)\\\n",
    "    .rdd.getNumPartitions()"
   ]
  },
  {
   "cell_type": "markdown",
   "metadata": {},
   "source": [
    "+ 연관성이 없는 조건절을 정의하여 중복 로우가 발생한 사례"
   ]
  },
  {
   "cell_type": "code",
   "execution_count": 23,
   "metadata": {},
   "outputs": [
    {
     "name": "stdout",
     "output_type": "stream",
     "text": [
      "+--------------------+-------------------+-----+\n",
      "|   DEST_COUNTRY_NAME|ORIGIN_COUNTRY_NAME|COUNT|\n",
      "+--------------------+-------------------+-----+\n",
      "|       United States|            Romania|    1|\n",
      "|       United States|            Ireland|  264|\n",
      "|       United States|              India|   69|\n",
      "|               Egypt|      United States|   24|\n",
      "|   Equatorial Guinea|      United States|    1|\n",
      "|       United States|          Singapore|   25|\n",
      "|       United States|            Grenada|   54|\n",
      "|          Costa Rica|      United States|  477|\n",
      "|             Senegal|      United States|   29|\n",
      "|       United States|   Marshall Islands|   44|\n",
      "|              Guyana|      United States|   17|\n",
      "|       United States|       Sint Maarten|   53|\n",
      "|               Malta|      United States|    1|\n",
      "|             Bolivia|      United States|   46|\n",
      "|            Anguilla|      United States|   21|\n",
      "|Turks and Caicos ...|      United States|  136|\n",
      "|       United States|        Afghanistan|    2|\n",
      "|Saint Vincent and...|      United States|    1|\n",
      "|               Italy|      United States|  390|\n",
      "|       United States|             Russia|  156|\n",
      "+--------------------+-------------------+-----+\n",
      "only showing top 20 rows\n",
      "\n"
     ]
    },
    {
     "data": {
      "text/plain": [
       "510"
      ]
     },
     "execution_count": 23,
     "metadata": {},
     "output_type": "execute_result"
    }
   ],
   "source": [
    "predicates = [\n",
    "    \"DEST_COUNTRY_NAME != 'Sweden' OR ORIGIN_COUNTRY_NAME != 'Sweden'\",\n",
    "    \"DEST_COUNTRY_NAME != 'Anguilla' OR ORIGIN_COUNTRY_NAME != 'Anguilla'\"] # 조건마다 병렬처리 하고 결합, 중복열이 많이 발생할 수 있음\n",
    "\n",
    "spark.read.jdbc(url, \"summary_2010\", predicates=predicates, properties=props).show()\n",
    "spark.read.jdbc(url, \"summary_2010\", predicates=predicates, properties=props).count() # 원래 컬럼은 255개임"
   ]
  },
  {
   "cell_type": "markdown",
   "metadata": {},
   "source": [
    "#### 슬라이딩 윈도우 기반의 파티셔닝\n",
    "+ 조건절을 기반으로 분할"
   ]
  },
  {
   "cell_type": "code",
   "execution_count": 24,
   "metadata": {},
   "outputs": [
    {
     "data": {
      "text/plain": [
       "255"
      ]
     },
     "execution_count": 24,
     "metadata": {},
     "output_type": "execute_result"
    }
   ],
   "source": [
    "colName = \"count\"\n",
    "lowerBound = 0\n",
    "upperBound = 348113\n",
    "numPartitions = 10\n",
    "\n",
    "spark.read.jdbc(url, \"summary_2010\", properties=props,\n",
    "                lowerBound=lowerBound,\n",
    "                upperBound=upperBound, # 예제 데이터베이스의 데이터 최대 개수\n",
    "                numPartitions=numPartitions).count() # 255"
   ]
  },
  {
   "cell_type": "markdown",
   "metadata": {},
   "source": [
    "### 9.6.3 SQL 데이터베이스 쓰기"
   ]
  },
  {
   "cell_type": "markdown",
   "metadata": {},
   "source": [
    "+ overwrite 모드"
   ]
  },
  {
   "cell_type": "code",
   "execution_count": 25,
   "metadata": {},
   "outputs": [
    {
     "data": {
      "text/plain": [
       "254"
      ]
     },
     "execution_count": 25,
     "metadata": {},
     "output_type": "execute_result"
    }
   ],
   "source": [
    "csvFile.write.jdbc(url, \"summary_2010\", mode=\"overwrite\", properties=props)\n",
    "spark.read.jdbc(url, \"summary_2010\", properties=props).count()"
   ]
  },
  {
   "cell_type": "markdown",
   "metadata": {},
   "source": [
    "+ append 모드, 레코드 증가 확인"
   ]
  },
  {
   "cell_type": "code",
   "execution_count": 26,
   "metadata": {},
   "outputs": [
    {
     "data": {
      "text/plain": [
       "508"
      ]
     },
     "execution_count": 26,
     "metadata": {},
     "output_type": "execute_result"
    }
   ],
   "source": [
    "csvFile.write.jdbc(url, \"summary_2010\", mode=\"append\", properties=props)\n",
    "spark.read.jdbc(url, \"summary_2010\", properties=props).count()"
   ]
  },
  {
   "cell_type": "markdown",
   "metadata": {},
   "source": [
    "## 9.7 텍스트 파일\n",
    "### 9.7.1 텍스트 파일 읽기\n",
    "+ textFile 메서드는 텍스트 파일을 직접 지정 (※ 현재 메서드가 없음)\n",
    "+ text는 파티션 수행 결과로 만들어진 디렉터리를 인식"
   ]
  },
  {
   "cell_type": "code",
   "execution_count": 27,
   "metadata": {},
   "outputs": [
    {
     "name": "stdout",
     "output_type": "stream",
     "text": [
      "+--------------------+\n",
      "|                rows|\n",
      "+--------------------+\n",
      "|[DEST_COUNTRY_NAM...|\n",
      "|[United States, R...|\n",
      "|[United States, I...|\n",
      "|[United States, I...|\n",
      "|[Egypt, United St...|\n",
      "|[Equatorial Guine...|\n",
      "|[United States, S...|\n",
      "|[United States, G...|\n",
      "|[Costa Rica, Unit...|\n",
      "|[Senegal, United ...|\n",
      "|[United States, M...|\n",
      "|[Guyana, United S...|\n",
      "|[United States, S...|\n",
      "|[Malta, United St...|\n",
      "|[Bolivia, United ...|\n",
      "|[Anguilla, United...|\n",
      "|[Turks and Caicos...|\n",
      "|[United States, A...|\n",
      "|[Saint Vincent an...|\n",
      "|[Italy, United St...|\n",
      "+--------------------+\n",
      "only showing top 20 rows\n",
      "\n"
     ]
    }
   ],
   "source": [
    "spark.read.text(\"./data/flight-data/csv/2010-summary.csv\")\\\n",
    "    .selectExpr(\"split(value, ',') as rows\").show()"
   ]
  },
  {
   "cell_type": "markdown",
   "metadata": {},
   "source": [
    "+ 텍스트 파일을 쓸 때는 일반적으로 문자열 컬럼이 하나만 존재해야 함\n",
    "+ 파티셔닝 작업을 수행하면 더 많은 컬럼을 저장하나 디텔터리에 폴더별로 컬럼을 저장"
   ]
  },
  {
   "cell_type": "code",
   "execution_count": 29,
   "metadata": {},
   "outputs": [],
   "source": [
    "csvFile.limit(10).select(\"DEST_COUNTRY_NAME\", \"count\")\\\n",
    "    .write.mode(\"overwrite\").partitionBy(\"count\").text(\"./data/tmp/five-csv-file2py.csv\")"
   ]
  },
  {
   "cell_type": "code",
   "execution_count": 30,
   "metadata": {},
   "outputs": [
    {
     "name": "stdout",
     "output_type": "stream",
     "text": [
      "total 52\r\n",
      "drwxr-xr-x 12 jovyan users 4096 Aug  8 16:16  .\r\n",
      "drwxr-xr-x  8 jovyan users 4096 Aug  8 16:16  ..\r\n",
      "drwxr-xr-x  2 jovyan users 4096 Aug  8 16:16 'count=1'\r\n",
      "drwxr-xr-x  2 jovyan users 4096 Aug  8 16:16 'count=17'\r\n",
      "drwxr-xr-x  2 jovyan users 4096 Aug  8 16:16 'count=24'\r\n",
      "drwxr-xr-x  2 jovyan users 4096 Aug  8 16:16 'count=25'\r\n",
      "drwxr-xr-x  2 jovyan users 4096 Aug  8 16:16 'count=264'\r\n",
      "drwxr-xr-x  2 jovyan users 4096 Aug  8 16:16 'count=29'\r\n",
      "drwxr-xr-x  2 jovyan users 4096 Aug  8 16:16 'count=44'\r\n",
      "drwxr-xr-x  2 jovyan users 4096 Aug  8 16:16 'count=477'\r\n",
      "drwxr-xr-x  2 jovyan users 4096 Aug  8 16:16 'count=54'\r\n",
      "drwxr-xr-x  2 jovyan users 4096 Aug  8 16:16 'count=69'\r\n",
      "-rw-r--r--  1 jovyan users    0 Aug  8 16:16  _SUCCESS\r\n",
      "-rw-r--r--  1 jovyan users    8 Aug  8 16:16  ._SUCCESS.crc\r\n"
     ]
    }
   ],
   "source": [
    "!ls ./data/tmp/five-csv-file2py.csv -al"
   ]
  },
  {
   "cell_type": "markdown",
   "metadata": {},
   "source": [
    "## 9.8 고급 I/O 개념\n",
    "+ 추천하는 파일 포맷과 압축 방식은 파케이 파일 포맷과 GZIP 압축방식\n",
    "+ 기본적으로 데이터 파티션당 하나의 파일이 작성됨\n",
    "    + 아래는 5개의 파일을 생성"
   ]
  },
  {
   "cell_type": "code",
   "execution_count": 32,
   "metadata": {},
   "outputs": [],
   "source": [
    "csvFile.repartition(5).write.mode(\"overwrite\").format(\"csv\").save(\"./data/tmp/multiple.csv\")"
   ]
  },
  {
   "cell_type": "code",
   "execution_count": 33,
   "metadata": {},
   "outputs": [
    {
     "name": "stdout",
     "output_type": "stream",
     "text": [
      "part-00000-f7144164-5f6d-457b-a0cb-5d0e36cc2aa7-c000.csv\r\n",
      "part-00001-f7144164-5f6d-457b-a0cb-5d0e36cc2aa7-c000.csv\r\n",
      "part-00002-f7144164-5f6d-457b-a0cb-5d0e36cc2aa7-c000.csv\r\n",
      "part-00003-f7144164-5f6d-457b-a0cb-5d0e36cc2aa7-c000.csv\r\n",
      "part-00004-f7144164-5f6d-457b-a0cb-5d0e36cc2aa7-c000.csv\r\n",
      "_SUCCESS\r\n"
     ]
    }
   ],
   "source": [
    "!ls ./data/tmp/multiple.csv"
   ]
  },
  {
   "cell_type": "markdown",
   "metadata": {},
   "source": [
    "#### 파티셔닝\n",
    "+ 디렉터리별로 컬럼 데이터를 인코딩해 저장\n",
    "+ 전체 데이터셋을 스캔하지 않고 필요한 컬럼의 데이터만 읽기 가능"
   ]
  },
  {
   "cell_type": "code",
   "execution_count": 34,
   "metadata": {},
   "outputs": [],
   "source": [
    "csvFile.limit(5).write.mode(\"overwrite\").partitionBy(\"DEST_COUNTRY_NAME\")\\\n",
    "    .save(\"./data/tmp/partitioned-files.parquet\")"
   ]
  },
  {
   "cell_type": "code",
   "execution_count": 35,
   "metadata": {},
   "outputs": [
    {
     "name": "stdout",
     "output_type": "stream",
     "text": [
      "'DEST_COUNTRY_NAME=Egypt'\t       'DEST_COUNTRY_NAME=United States'\r\n",
      "'DEST_COUNTRY_NAME=Equatorial Guinea'   _SUCCESS\r\n"
     ]
    }
   ],
   "source": [
    "!ls ./data/tmp/partitioned-files.parquet/"
   ]
  },
  {
   "cell_type": "markdown",
   "metadata": {},
   "source": [
    "#### 버켓팅\n",
    "+ 동일한 버킷 ID를 가진 데이터가 하나의 물리적 파티션에 모두 모여있기 때문에 데이터를 읽을 때 셔플을 피할 수 있음\n",
    "+ 스파크 관리 테이블에서만 사용 가능"
   ]
  },
  {
   "cell_type": "code",
   "execution_count": 36,
   "metadata": {},
   "outputs": [],
   "source": [
    "\"\"\" 버켓 단위로 데이터를 모아 일정 수의 파일로 저장 \"\"\"\n",
    "numberBuckets = 10\n",
    "columnToBucketBy = \"count\"\n",
    "\n",
    "csvFile.write.format(\"parquet\").mode(\"overwrite\").bucketBy(numberBuckets, columnToBucketBy).saveAsTable(\"bucketedFiles\")"
   ]
  },
  {
   "cell_type": "markdown",
   "metadata": {},
   "source": [
    "#### 기타\n",
    "+ 복합데이터(리스트 등)는 파케이, ORC 타입에서 지원\n",
    "+ 스파크는 작은 용량의 파일이 많을 때 취약하나 반대의 상황도 좋지 않음\n",
    "+ maxRecordsPerFile 옵션을 통해 파일당 레코드 수를 지정할 수 있음"
   ]
  }
 ],
 "metadata": {
  "kernelspec": {
   "display_name": "Python 3",
   "language": "python",
   "name": "python3"
  },
  "language_info": {
   "codemirror_mode": {
    "name": "ipython",
    "version": 3
   },
   "file_extension": ".py",
   "mimetype": "text/x-python",
   "name": "python",
   "nbconvert_exporter": "python",
   "pygments_lexer": "ipython3",
   "version": "3.7.3"
  }
 },
 "nbformat": 4,
 "nbformat_minor": 2
}
